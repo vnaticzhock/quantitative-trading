{
  "nbformat": 4,
  "nbformat_minor": 0,
  "metadata": {
    "colab": {
      "name": "1216_ARIMA.ipynb",
      "private_outputs": true,
      "provenance": [],
      "authorship_tag": "ABX9TyNy7xsn8AZfuPgGKe7OcOb4",
      "include_colab_link": true
    },
    "kernelspec": {
      "name": "python3",
      "display_name": "Python 3"
    },
    "language_info": {
      "name": "python"
    }
  },
  "cells": [
    {
      "cell_type": "markdown",
      "metadata": {
        "id": "view-in-github",
        "colab_type": "text"
      },
      "source": [
        "<a href=\"https://colab.research.google.com/github/vnaticzhock/quantitative-trading/blob/main/1216_ARIMA.ipynb\" target=\"_parent\"><img src=\"https://colab.research.google.com/assets/colab-badge.svg\" alt=\"Open In Colab\"/></a>"
      ]
    },
    {
      "cell_type": "code",
      "source": [
        "!pip install statsmodels --upgrade\n",
        "!pip install pmdarima\n",
        "!pip install arch"
      ],
      "metadata": {
        "id": "W792z9RLQNqt"
      },
      "execution_count": null,
      "outputs": []
    },
    {
      "cell_type": "code",
      "execution_count": null,
      "metadata": {
        "id": "DnNwg6UcL7-n"
      },
      "outputs": [],
      "source": [
        "import pandas as pd\n",
        "from statsmodels.tsa.stattools import adfuller\n",
        "## Augmented Dickey-Fuller Test\n",
        "from statsmodels.tsa.arima.model import ARIMA\n",
        "from statsmodels.stats.diagnostic import acorr_ljungbox\n",
        "from statsmodels.stats.diagnostic import het_arch\n",
        "from arch import arch_model\n",
        "import statsmodels.graphics.tsaplots as sgt\n",
        "import pmdarima as pmd\n",
        "import matplotlib.pyplot as plt"
      ]
    },
    {
      "cell_type": "code",
      "source": [
        "def timeFormat(time: str) -> str:\n",
        "  tmp = time.split('/')\n",
        "  tmp[0] = str(int(tmp[0]) + 1911)\n",
        "  return '-'.join(tmp)\n",
        "\n",
        "df = pd.read_csv('/content/日收盤價及成交量等.csv')\n",
        "df['Unnamed: 0'] = df['Unnamed: 0'].apply(lambda x: timeFormat(x))\n",
        "df.index = pd.Index(df['Unnamed: 0'].copy())\n",
        "df = df.sort_index()\n",
        "dta = pd.DataFrame(df['Close-Price'].pct_change().dropna())\n",
        "dta.columns = ['日報酬率']\n",
        "dta.index.name = '年月日'\n",
        "\n",
        "dta.tail(3)"
      ],
      "metadata": {
        "id": "DCc32D6DMIvD"
      },
      "execution_count": null,
      "outputs": []
    },
    {
      "cell_type": "code",
      "source": [
        "price_p_value = adfuller(dta['日報酬率'])[1]\n",
        "if price_p_value > 0.05:\n",
        "    print('Nonstationary')\n",
        "else:\n",
        "    print('Stationary')"
      ],
      "metadata": {
        "id": "2_c3dtNBMNi0"
      },
      "execution_count": null,
      "outputs": []
    },
    {
      "cell_type": "code",
      "source": [
        "pmd_mdl = pmd.auto_arima(dta['Close-Price'], stationary=True)"
      ],
      "metadata": {
        "id": "966XQWPORDth"
      },
      "execution_count": null,
      "outputs": []
    },
    {
      "cell_type": "code",
      "source": [
        "print(pmd_mdl.summary())"
      ],
      "metadata": {
        "id": "sjmz_KXxRjGH"
      },
      "execution_count": null,
      "outputs": []
    },
    {
      "cell_type": "code",
      "source": [
        "model = ARIMA(dta['Close-Price'], order=(1, 0, 1))\n",
        "stats_mdl = model.fit()\n",
        "print(stats_mdl.summary())\n",
        "\n",
        "stats_mdl.plot_diagnostics(figsize = (15, 10))\n",
        "plt.show()"
      ],
      "metadata": {
        "id": "ueumcjUPRqnR"
      },
      "execution_count": null,
      "outputs": []
    },
    {
      "cell_type": "code",
      "source": [
        "pmd_residual = pmd_mdl.arima_res_.resid\n",
        "white_noise = acorr_ljungbox(pmd_residual, lags = [10], return_df=True)\n",
        "print(white_noise)"
      ],
      "metadata": {
        "id": "73UvrVWGSDnS"
      },
      "execution_count": null,
      "outputs": []
    },
    {
      "cell_type": "code",
      "source": [
        "LM_pvalue = het_arch(pmd_residual, ddof = 4)[1]\n",
        "print('LM-test-Pvalue:', '{:.5f}'.format(LM_pvalue))"
      ],
      "metadata": {
        "id": "6LnNKhXSSvyo"
      },
      "execution_count": null,
      "outputs": []
    },
    {
      "cell_type": "code",
      "source": [
        "fig, ax = plt.subplots(1, 2, figsize = (18,5))\n",
        "\n",
        "sgt.plot_acf(pmd_residual**2, zero = False, lags = 40, ax=ax[0])\n",
        "sgt.plot_pacf(pmd_residual**2, zero = False, lags = 40, ax=ax[1])\n",
        "plt.show()"
      ],
      "metadata": {
        "id": "8lkFoEwtUQ4q"
      },
      "execution_count": null,
      "outputs": []
    },
    {
      "cell_type": "code",
      "source": [
        "mdl_garch = arch_model(pmd_residual, vol='GARCH', p=1, q=1)\n",
        "garch_fit = mdl_garch.fit()\n",
        "print(garch_fit.summary())"
      ],
      "metadata": {
        "id": "O5Y2g__XUdmd"
      },
      "execution_count": null,
      "outputs": []
    },
    {
      "cell_type": "code",
      "source": [
        "import statsmodels.api as sm\n",
        "\n",
        "garch_std_resid = pd.Series(garch_fit.resid / garch_fit.conditional_volatility)\n",
        "fig = plt.figure(figsize = (15, 8))\n",
        "\n",
        "# Residual\n",
        "garch_std_resid.plot(ax = fig.add_subplot(3,1,1), title = 'GARCH Standardized-Residual', legend = False)\n",
        "\n",
        "# ACF/PACF\n",
        "sgt.plot_acf(garch_std_resid, zero = False, lags = 40, ax=fig.add_subplot(3,2,3))\n",
        "sgt.plot_pacf(garch_std_resid, zero = False, lags = 40, ax=fig.add_subplot(3,2,4))\n",
        "\n",
        "# QQ-Plot & Norm-Dist\n",
        "sm.qqplot(garch_std_resid, line='s', ax=fig.add_subplot(3,2,5)) \n",
        "plt.title(\"QQ Plot\")\n",
        "fig.add_subplot(3,2,6).hist(garch_std_resid, bins = 40)\n",
        "plt.title(\"Histogram\")\n",
        "\n",
        "plt.tight_layout()\n",
        "plt.show()"
      ],
      "metadata": {
        "id": "x5NFI70fV5UK"
      },
      "execution_count": null,
      "outputs": []
    },
    {
      "cell_type": "code",
      "source": [
        "white_noise_garch = acorr_ljungbox(garch_std_resid, lags = [10], return_df=True)\n",
        "white_noise_garch"
      ],
      "metadata": {
        "id": "A3k6Usp4WjE8"
      },
      "execution_count": null,
      "outputs": []
    },
    {
      "cell_type": "code",
      "source": [
        ""
      ],
      "metadata": {
        "id": "EBczZ4oVWyW7"
      },
      "execution_count": null,
      "outputs": []
    },
    {
      "cell_type": "code",
      "source": [
        ""
      ],
      "metadata": {
        "id": "nTS5YCAmZtTi"
      },
      "execution_count": null,
      "outputs": []
    }
  ]
}